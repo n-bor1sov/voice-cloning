{
 "cells": [
  {
   "cell_type": "code",
   "execution_count": null,
   "metadata": {},
   "outputs": [
    {
     "name": "stderr",
     "output_type": "stream",
     "text": [
      "2025-04-13 23:42:23 | INFO | fairseq.tasks.text_to_speech | Please install tensorboardX: pip install tensorboardX\n"
     ]
    }
   ],
   "source": [
    "import sys\n",
    "from pathlib import Path\n",
    "\n",
    "# Auto-find project root (works across platforms)\n",
    "if str(Path.cwd().parent) not in sys.path:\n",
    "    sys.path.append(str(Path.cwd().parent))\n",
    "\n",
    "import torch\n",
    "import torchaudio\n",
    "from voice_cloning.speaker_encoder.ecapa_tdnn\n",
    "import librosa\n",
    "import torch.nn.functional as F"
   ]
  },
  {
   "cell_type": "code",
   "execution_count": null,
   "metadata": {},
   "outputs": [],
   "source": [
    "speaker_encoder_path = './checkpoints/speaker_encoder/speaker_encoder.pt'"
   ]
  },
  {
   "cell_type": "code",
   "execution_count": 5,
   "metadata": {},
   "outputs": [
    {
     "name": "stdout",
     "output_type": "stream",
     "text": [
      "Initializing Speaker Encoder...\n"
     ]
    },
    {
     "name": "stderr",
     "output_type": "stream",
     "text": [
      "/Users/user/Documents/Inno/GenAI/VoiceCloning/.venv/lib/python3.9/site-packages/torchaudio/functional/functional.py:576: UserWarning: At least one mel filterbank has all zero values. The value for `n_mels` (1024) may be set too high. Or, the value for `n_freqs` (257) may be set too low.\n",
      "  warnings.warn(\n",
      "/Users/user/Documents/Inno/GenAI/VoiceCloning/.venv/lib/python3.9/site-packages/torchaudio/functional/functional.py:576: UserWarning: At least one mel filterbank has all zero values. The value for `n_mels` (256) may be set too high. Or, the value for `n_freqs` (257) may be set too low.\n",
      "  warnings.warn(\n"
     ]
    },
    {
     "data": {
      "text/plain": [
       "ECAPA_TDNN(\n",
       "  (feature_extract): MelSpectrogram(\n",
       "    (spectrogram): Spectrogram()\n",
       "    (mel_scale): MelScale()\n",
       "  )\n",
       "  (instance_norm): InstanceNorm1d(256, eps=1e-05, momentum=0.1, affine=False, track_running_stats=False)\n",
       "  (layer1): Conv1dReluBn(\n",
       "    (conv): Conv1d(256, 512, kernel_size=(5,), stride=(1,), padding=(2,))\n",
       "    (bn): BatchNorm1d(512, eps=1e-05, momentum=0.1, affine=True, track_running_stats=True)\n",
       "  )\n",
       "  (layer2): SE_Res2Block(\n",
       "    (Conv1dReluBn1): Conv1dReluBn(\n",
       "      (conv): Conv1d(512, 512, kernel_size=(1,), stride=(1,))\n",
       "      (bn): BatchNorm1d(512, eps=1e-05, momentum=0.1, affine=True, track_running_stats=True)\n",
       "    )\n",
       "    (Res2Conv1dReluBn): Res2Conv1dReluBn(\n",
       "      (convs): ModuleList(\n",
       "        (0-6): 7 x Conv1d(64, 64, kernel_size=(3,), stride=(1,), padding=(2,), dilation=(2,))\n",
       "      )\n",
       "      (bns): ModuleList(\n",
       "        (0-6): 7 x BatchNorm1d(64, eps=1e-05, momentum=0.1, affine=True, track_running_stats=True)\n",
       "      )\n",
       "    )\n",
       "    (Conv1dReluBn2): Conv1dReluBn(\n",
       "      (conv): Conv1d(512, 512, kernel_size=(1,), stride=(1,))\n",
       "      (bn): BatchNorm1d(512, eps=1e-05, momentum=0.1, affine=True, track_running_stats=True)\n",
       "    )\n",
       "    (SE_Connect): SE_Connect(\n",
       "      (linear1): Linear(in_features=512, out_features=128, bias=True)\n",
       "      (linear2): Linear(in_features=128, out_features=512, bias=True)\n",
       "    )\n",
       "  )\n",
       "  (layer3): SE_Res2Block(\n",
       "    (Conv1dReluBn1): Conv1dReluBn(\n",
       "      (conv): Conv1d(512, 512, kernel_size=(1,), stride=(1,))\n",
       "      (bn): BatchNorm1d(512, eps=1e-05, momentum=0.1, affine=True, track_running_stats=True)\n",
       "    )\n",
       "    (Res2Conv1dReluBn): Res2Conv1dReluBn(\n",
       "      (convs): ModuleList(\n",
       "        (0-6): 7 x Conv1d(64, 64, kernel_size=(3,), stride=(1,), padding=(3,), dilation=(3,))\n",
       "      )\n",
       "      (bns): ModuleList(\n",
       "        (0-6): 7 x BatchNorm1d(64, eps=1e-05, momentum=0.1, affine=True, track_running_stats=True)\n",
       "      )\n",
       "    )\n",
       "    (Conv1dReluBn2): Conv1dReluBn(\n",
       "      (conv): Conv1d(512, 512, kernel_size=(1,), stride=(1,))\n",
       "      (bn): BatchNorm1d(512, eps=1e-05, momentum=0.1, affine=True, track_running_stats=True)\n",
       "    )\n",
       "    (SE_Connect): SE_Connect(\n",
       "      (linear1): Linear(in_features=512, out_features=128, bias=True)\n",
       "      (linear2): Linear(in_features=128, out_features=512, bias=True)\n",
       "    )\n",
       "  )\n",
       "  (layer4): SE_Res2Block(\n",
       "    (Conv1dReluBn1): Conv1dReluBn(\n",
       "      (conv): Conv1d(512, 512, kernel_size=(1,), stride=(1,))\n",
       "      (bn): BatchNorm1d(512, eps=1e-05, momentum=0.1, affine=True, track_running_stats=True)\n",
       "    )\n",
       "    (Res2Conv1dReluBn): Res2Conv1dReluBn(\n",
       "      (convs): ModuleList(\n",
       "        (0-6): 7 x Conv1d(64, 64, kernel_size=(3,), stride=(1,), padding=(4,), dilation=(4,))\n",
       "      )\n",
       "      (bns): ModuleList(\n",
       "        (0-6): 7 x BatchNorm1d(64, eps=1e-05, momentum=0.1, affine=True, track_running_stats=True)\n",
       "      )\n",
       "    )\n",
       "    (Conv1dReluBn2): Conv1dReluBn(\n",
       "      (conv): Conv1d(512, 512, kernel_size=(1,), stride=(1,))\n",
       "      (bn): BatchNorm1d(512, eps=1e-05, momentum=0.1, affine=True, track_running_stats=True)\n",
       "    )\n",
       "    (SE_Connect): SE_Connect(\n",
       "      (linear1): Linear(in_features=512, out_features=128, bias=True)\n",
       "      (linear2): Linear(in_features=128, out_features=512, bias=True)\n",
       "    )\n",
       "  )\n",
       "  (conv): Conv1d(1536, 1536, kernel_size=(1,), stride=(1,))\n",
       "  (pooling): AttentiveStatsPool(\n",
       "    (linear1): Conv1d(1536, 128, kernel_size=(1,), stride=(1,))\n",
       "    (linear2): Conv1d(128, 1536, kernel_size=(1,), stride=(1,))\n",
       "  )\n",
       "  (bn): BatchNorm1d(3072, eps=1e-05, momentum=0.1, affine=True, track_running_stats=True)\n",
       "  (linear): Linear(in_features=3072, out_features=256, bias=True)\n",
       ")"
      ]
     },
     "execution_count": 5,
     "metadata": {},
     "output_type": "execute_result"
    }
   ],
   "source": [
    "# Speaker Encoder for extracting speaker embedding\n",
    "device = torch.device('cuda' if torch.cuda.is_available() else 'cpu')\n",
    "\n",
    "print('Initializing the Speaker Encoder...')\n",
    "ecapa_state_dict = torch.load(speaker_encoder_path)\n",
    "ecapa = ecapa_tdnn.ECAPA_TDNN_SMALL_WTTH_PROJ()\n",
    "ecapa.load_state_dict(ecapa_state_dict)\n",
    "ecapa.eval().to(device)\n",
    "ecapa.requires_grad = False\n",
    "print('Speaker Encoder is initialized')"
   ]
  },
  {
   "cell_type": "code",
   "execution_count": null,
   "metadata": {},
   "outputs": [
    {
     "name": "stdout",
     "output_type": "stream",
     "text": [
      "Distance between same speaker samples: 0.1896\n",
      "Distance between different speaker samples: 0.4913\n"
     ]
    }
   ],
   "source": [
    "# Load reference samples\n",
    "reference_path = \"../voice_cloning/speaker_encoder/data/samples/speaker1_sample1.mp3\"\n",
    "reference_path1 = \"../voice_cloning/speaker_encoder/data/samples/speaker1_sample2.mp3\"  # Same speaker, different sample\n",
    "reference_path2 = \"../voice_cloning/speaker_encoder/data/samples/speaker2_sample1.mp3\"  # Different speaker\n",
    "\n",
    "# Process reference sample\n",
    "wav_ref, sr = librosa.load(reference_path)\n",
    "wav_ref = torch.FloatTensor(wav_ref).unsqueeze(0)\n",
    "resample_fn = torchaudio.transforms.Resample(sr, 16000)\n",
    "wav_ref = resample_fn(wav_ref)\n",
    "spk_emb_ref = ecapa(wav_ref)\n",
    "spk_emb_ref = spk_emb_ref / spk_emb_ref.norm()\n",
    "\n",
    "# Process reference1 (same speaker)\n",
    "wav_ref1, sr = librosa.load(reference_path1)\n",
    "wav_ref1 = torch.FloatTensor(wav_ref1).unsqueeze(0)\n",
    "wav_ref1 = resample_fn(wav_ref1)\n",
    "spk_emb_ref1 = ecapa(wav_ref1)\n",
    "spk_emb_ref1 = spk_emb_ref1 / spk_emb_ref1.norm()\n",
    "\n",
    "# Process reference2 (different speaker)\n",
    "wav_ref2, sr = librosa.load(reference_path2)\n",
    "wav_ref2 = torch.FloatTensor(wav_ref2).unsqueeze(0)\n",
    "wav_ref2 = resample_fn(wav_ref2)\n",
    "spk_emb_ref2 = ecapa(wav_ref2)\n",
    "spk_emb_ref2 = spk_emb_ref2 / spk_emb_ref2.norm()\n",
    "\n",
    "# Calculate cosine distances\n",
    "distance_same_speaker = 1 - F.cosine_similarity(spk_emb_ref, spk_emb_ref1)\n",
    "distance_diff_speaker = 1 - F.cosine_similarity(spk_emb_ref, spk_emb_ref2)\n",
    "\n",
    "print(f\"Distance between same speaker samples: {distance_same_speaker.item():.4f}\")\n",
    "print(f\"Distance between different speaker samples: {distance_diff_speaker.item():.4f}\")"
   ]
  }
 ],
 "metadata": {
  "kernelspec": {
   "display_name": "Python 3",
   "language": "python",
   "name": "python3"
  },
  "language_info": {
   "codemirror_mode": {
    "name": "ipython",
    "version": 3
   },
   "file_extension": ".py",
   "mimetype": "text/x-python",
   "name": "python",
   "nbconvert_exporter": "python",
   "pygments_lexer": "ipython3",
   "version": "3.11.9"
  }
 },
 "nbformat": 4,
 "nbformat_minor": 2
}
