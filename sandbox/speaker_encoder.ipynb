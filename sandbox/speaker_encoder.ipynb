{
 "cells": [
  {
   "cell_type": "code",
   "execution_count": 6,
   "metadata": {},
   "outputs": [],
   "source": [
    "import sys\n",
    "from pathlib import Path\n",
    "\n",
    "# Auto-find project root (works across platforms)\n",
    "if str(Path.cwd().parent) not in sys.path:\n",
    "    sys.path.append(str(Path.cwd().parent))\n",
    "\n",
    "import torch\n",
    "import torchaudio\n",
    "from voice_cloning.speaker_encoder.ecapa_tdnn import ECAPA_TDNN_SMALL\n",
    "\n",
    "import librosa\n",
    "import torch.nn.functional as F"
   ]
  },
  {
   "cell_type": "code",
   "execution_count": 7,
   "metadata": {},
   "outputs": [],
   "source": [
    "speaker_encoder_path = \"../voice_cloning/speaker_encoder/checkpoints/speaker_encoder.pt\""
   ]
  },
  {
   "cell_type": "code",
   "execution_count": 13,
   "metadata": {},
   "outputs": [
    {
     "name": "stdout",
     "output_type": "stream",
     "text": [
      "Initializing Speaker Encoder...\n"
     ]
    }
   ],
   "source": [
    "# Speaker Encoder for extracting speaker embedding\n",
    "print('Initializing Speaker Encoder...')\n",
    "\n",
    "spk_embedder = ECAPA_TDNN_SMALL(\n",
    "    feat_dim=1024,\n",
    "    feat_type=\"fbank\",\n",
    ")\n",
    "\n",
    "state_dict = torch.load(speaker_encoder_path, map_location=lambda storage, loc: storage)\n",
    "spk_embedder.load_state_dict(state_dict['model'], strict=False)\n",
    "_ = spk_embedder.eval()"
   ]
  },
  {
   "cell_type": "code",
   "execution_count": 9,
   "metadata": {},
   "outputs": [
    {
     "name": "stdout",
     "output_type": "stream",
     "text": [
      "Distance between same speaker samples: 0.0181\n",
      "Distance between different speaker samples: 0.0682\n"
     ]
    }
   ],
   "source": [
    "# Load reference samples\n",
    "reference_path = \"../voice_cloning/speaker_encoder/data/samples/speaker1_sample1.mp3\"\n",
    "reference_path1 = \"../voice_cloning/speaker_encoder/data/samples/speaker1_sample2.mp3\"  # Same speaker, different sample\n",
    "reference_path2 = \"../voice_cloning/speaker_encoder/data/samples/speaker2_sample1.mp3\"  # Different speaker\n",
    "\n",
    "# Process reference sample\n",
    "wav_ref, sr = librosa.load(reference_path)\n",
    "wav_ref = torch.FloatTensor(wav_ref).unsqueeze(0)\n",
    "resample_fn = torchaudio.transforms.Resample(sr, 16000)\n",
    "wav_ref = resample_fn(wav_ref)\n",
    "spk_emb_ref = spk_embedder(wav_ref)\n",
    "spk_emb_ref = spk_emb_ref / spk_emb_ref.norm()\n",
    "\n",
    "# Process reference1 (same speaker)\n",
    "wav_ref1, sr = librosa.load(reference_path1)\n",
    "wav_ref1 = torch.FloatTensor(wav_ref1).unsqueeze(0)\n",
    "wav_ref1 = resample_fn(wav_ref1)\n",
    "spk_emb_ref1 = spk_embedder(wav_ref1)\n",
    "spk_emb_ref1 = spk_emb_ref1 / spk_emb_ref1.norm()\n",
    "\n",
    "# Process reference2 (different speaker)\n",
    "wav_ref2, sr = librosa.load(reference_path2)\n",
    "wav_ref2 = torch.FloatTensor(wav_ref2).unsqueeze(0)\n",
    "wav_ref2 = resample_fn(wav_ref2)\n",
    "spk_emb_ref2 = spk_embedder(wav_ref2)\n",
    "spk_emb_ref2 = spk_emb_ref2 / spk_emb_ref2.norm()\n",
    "\n",
    "# Calculate cosine distances\n",
    "distance_same_speaker = 1 - F.cosine_similarity(spk_emb_ref, spk_emb_ref1)\n",
    "distance_diff_speaker = 1 - F.cosine_similarity(spk_emb_ref, spk_emb_ref2)\n",
    "\n",
    "print(f\"Distance between same speaker samples: {distance_same_speaker.item():.4f}\")\n",
    "print(f\"Distance between different speaker samples: {distance_diff_speaker.item():.4f}\")"
   ]
  }
 ],
 "metadata": {
  "kernelspec": {
   "display_name": "v_cloning",
   "language": "python",
   "name": "python3"
  },
  "language_info": {
   "codemirror_mode": {
    "name": "ipython",
    "version": 3
   },
   "file_extension": ".py",
   "mimetype": "text/x-python",
   "name": "python",
   "nbconvert_exporter": "python",
   "pygments_lexer": "ipython3",
   "version": "3.8.20"
  }
 },
 "nbformat": 4,
 "nbformat_minor": 2
}
